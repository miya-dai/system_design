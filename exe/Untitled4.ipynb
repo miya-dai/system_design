{
 "cells": [
  {
   "cell_type": "code",
   "execution_count": 24,
   "metadata": {
    "collapsed": false
   },
   "outputs": [
    {
     "name": "stdout",
     "output_type": "stream",
     "text": [
      "     0\n",
      "0 -6.1\n",
      "1 -3.2\n",
      "2 -3.5\n",
      "3 -6.8\n",
      "4 -5.6\n",
      "5 -5.5\n",
      "6 -8.7\n",
      "7 -2.5\n",
      "8 -6.4\n",
      "9 -8.1\n"
     ]
    }
   ],
   "source": [
    "import numpy as np\n",
    "import pandas as pd\n",
    "import sys\n",
    "from PEIOPT_for_loop import *\n",
    "import csv\n",
    "import time\n",
    "\n",
    "x_all = pd.read_csv(\"x_all.csv\", header=None)\n",
    "y_all = pd.read_csv(\"y_all.csv\", header=None)\n",
    "cas_data = pd.read_csv(\"sum_log.csv\")\n",
    "counter_i = 0\n",
    "\n",
    "csv_title_list = [\"num_of_samples\",\"random_num\",\"cas_number\",\"pred_value\",\"real_value\",\"error_value\"]\n",
    "\n",
    "f = open('PEIOPT_sum4_100.csv', 'w')\n",
    "writer = csv.writer(f, lineterminator='\\n')\n",
    "writer.writerow(csv_title_list)\n",
    "\n",
    "for random_num in range(1):\n",
    "\tsampler = np.random.permutation(len(x_all))\n",
    "\tlearn_x = x_all.take(sampler[:10])\n",
    "\tlearn_y = y_all.take(sampler[:10])\n",
    "\tcas_source = (cas_data.ix[:,1]).take(sampler[10:])\n",
    "\tcas_source = list(cas_source.values.flatten())\n",
    "\ttest_x = x_all.take(sampler[10:])\n",
    "\ttest_y = y_all.take(sampler[10:])\n",
    "\tlearn_x.to_csv(\"./x_csvs/x_%i_%i.csv\" %(10, random_num), index=False, header=False)\n",
    "\tlearn_y.to_csv(\"./y_csvs/y_%i_%i.csv\" %(10, random_num), index=False, header=False)\n",
    "\ttest_x.to_csv(\"./xevals/xeval_%i_%i.csv\" %(10, random_num), index=False, header=False)\n",
    "\ttest_y.to_csv(\"./yevals/yeval_%i_%i.csv\" %(10, random_num), index=False, header=False)\n",
    "\t\n",
    "\t\t#最適化手法本体\n",
    "\t\n",
    "\t\t# データロード\n",
    "\tX = np.loadtxt(\"./x_csvs/x_%i_%i.csv\" %(10, random_num),delimiter=\",\")\n",
    "\tX = X.astype(np.float64)#設計変数\n",
    "\tycsv = pd.read_csv(\"./y_csvs/y_%i_%i.csv\" %(10, random_num), header=None)\n",
    "\tprint(ycsv)\n",
    "\ty = ycsv.as_matrix()\n",
    "\ty = y.astype(np.float64)#特性\n",
    "\tboundcsv = np.loadtxt(\"bound.csv\",delimiter=\",\")#設計変数のレンジ\n",
    "\tyinfcsv = np.loadtxt(\"yinf.csv\",delimiter=\",\")#各特性に対する要求\n",
    "\toption = pd.read_csv(\"option.csv\", header=None)#option\n",
    "\tadd_rand = np.random.rand(len(ycsv)) * np.random.rand(len(ycsv)) *0.1\n",
    "\tfor i in range(len(ycsv)):\n",
    "\t\tycsv.ix[i,0] = ycsv.ix[i,0] + add_rand[i]"
   ]
  },
  {
   "cell_type": "code",
   "execution_count": 25,
   "metadata": {
    "collapsed": false
   },
   "outputs": [
    {
     "name": "stdout",
     "output_type": "stream",
     "text": [
      "          0\n",
      "0 -6.061292\n",
      "1 -3.173801\n",
      "2 -3.496943\n",
      "3 -6.798933\n",
      "4 -5.544586\n",
      "5 -5.481540\n",
      "6 -8.698531\n",
      "7 -2.490647\n",
      "8 -6.377991\n",
      "9 -8.041393\n"
     ]
    }
   ],
   "source": [
    "print(ycsv)"
   ]
  },
  {
   "cell_type": "code",
   "execution_count": null,
   "metadata": {
    "collapsed": true
   },
   "outputs": [],
   "source": []
  },
  {
   "cell_type": "code",
   "execution_count": null,
   "metadata": {
    "collapsed": true
   },
   "outputs": [],
   "source": []
  },
  {
   "cell_type": "code",
   "execution_count": null,
   "metadata": {
    "collapsed": true
   },
   "outputs": [],
   "source": []
  },
  {
   "cell_type": "code",
   "execution_count": null,
   "metadata": {
    "collapsed": true
   },
   "outputs": [],
   "source": []
  },
  {
   "cell_type": "code",
   "execution_count": null,
   "metadata": {
    "collapsed": true
   },
   "outputs": [],
   "source": []
  },
  {
   "cell_type": "code",
   "execution_count": null,
   "metadata": {
    "collapsed": true
   },
   "outputs": [],
   "source": []
  },
  {
   "cell_type": "code",
   "execution_count": null,
   "metadata": {
    "collapsed": true
   },
   "outputs": [],
   "source": []
  },
  {
   "cell_type": "code",
   "execution_count": null,
   "metadata": {
    "collapsed": true
   },
   "outputs": [],
   "source": []
  },
  {
   "cell_type": "code",
   "execution_count": null,
   "metadata": {
    "collapsed": true
   },
   "outputs": [],
   "source": []
  },
  {
   "cell_type": "code",
   "execution_count": null,
   "metadata": {
    "collapsed": true
   },
   "outputs": [],
   "source": []
  },
  {
   "cell_type": "code",
   "execution_count": 23,
   "metadata": {
    "collapsed": false
   },
   "outputs": [
    {
     "name": "stdout",
     "output_type": "stream",
     "text": [
      "          0\n",
      "0 -5.296627\n",
      "1 -6.086903\n",
      "2 -4.886418\n",
      "3 -6.696156\n",
      "4 -8.266664\n",
      "5 -4.685467\n",
      "6 -4.769373\n",
      "7 -8.465676\n",
      "8 -8.075571\n",
      "9 -5.395346\n"
     ]
    }
   ],
   "source": [
    "print(ycsv)"
   ]
  },
  {
   "cell_type": "code",
   "execution_count": null,
   "metadata": {
    "collapsed": true
   },
   "outputs": [],
   "source": []
  },
  {
   "cell_type": "code",
   "execution_count": null,
   "metadata": {
    "collapsed": true
   },
   "outputs": [],
   "source": []
  },
  {
   "cell_type": "code",
   "execution_count": null,
   "metadata": {
    "collapsed": true
   },
   "outputs": [],
   "source": []
  },
  {
   "cell_type": "code",
   "execution_count": null,
   "metadata": {
    "collapsed": true
   },
   "outputs": [],
   "source": []
  },
  {
   "cell_type": "code",
   "execution_count": null,
   "metadata": {
    "collapsed": true
   },
   "outputs": [],
   "source": []
  },
  {
   "cell_type": "code",
   "execution_count": null,
   "metadata": {
    "collapsed": true
   },
   "outputs": [],
   "source": []
  },
  {
   "cell_type": "code",
   "execution_count": null,
   "metadata": {
    "collapsed": true
   },
   "outputs": [],
   "source": []
  },
  {
   "cell_type": "code",
   "execution_count": null,
   "metadata": {
    "collapsed": true
   },
   "outputs": [],
   "source": []
  },
  {
   "cell_type": "code",
   "execution_count": null,
   "metadata": {
    "collapsed": true
   },
   "outputs": [],
   "source": []
  },
  {
   "cell_type": "code",
   "execution_count": null,
   "metadata": {
    "collapsed": true
   },
   "outputs": [],
   "source": []
  },
  {
   "cell_type": "code",
   "execution_count": null,
   "metadata": {
    "collapsed": true
   },
   "outputs": [],
   "source": []
  },
  {
   "cell_type": "code",
   "execution_count": null,
   "metadata": {
    "collapsed": true
   },
   "outputs": [],
   "source": []
  },
  {
   "cell_type": "code",
   "execution_count": null,
   "metadata": {
    "collapsed": true
   },
   "outputs": [],
   "source": []
  }
 ],
 "metadata": {
  "kernelspec": {
   "display_name": "Python 3",
   "language": "python",
   "name": "python3"
  },
  "language_info": {
   "codemirror_mode": {
    "name": "ipython",
    "version": 3
   },
   "file_extension": ".py",
   "mimetype": "text/x-python",
   "name": "python",
   "nbconvert_exporter": "python",
   "pygments_lexer": "ipython3",
   "version": "3.5.1"
  }
 },
 "nbformat": 4,
 "nbformat_minor": 0
}
