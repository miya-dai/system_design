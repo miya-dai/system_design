{
 "cells": [
  {
   "cell_type": "code",
   "execution_count": 4,
   "metadata": {
    "collapsed": false
   },
   "outputs": [
    {
     "name": "stdout",
     "output_type": "stream",
     "text": [
      "     0\n",
      "0 -5.0\n",
      "1 -6.2\n",
      "2 -7.5\n",
      "3 -4.0\n",
      "4 -4.4\n",
      "5 -4.5\n",
      "6 -5.2\n",
      "7 -7.6\n",
      "8 -6.4\n",
      "9 -6.3\n"
     ]
    }
   ],
   "source": [
    "import numpy as np\n",
    "import pandas as pd\n",
    "import sys\n",
    "from PEIOPT_for_loop import *\n",
    "import csv\n",
    "import time\n",
    "\n",
    "x_all = pd.read_csv(\"x_all.csv\", header=None)\n",
    "y_all = pd.read_csv(\"y_all.csv\", header=None)\n",
    "cas_data = pd.read_csv(\"sum_log.csv\")\n",
    "counter_i = 0\n",
    "\n",
    "csv_title_list = [\"num_of_samples\",\"random_num\",\"cas_number\",\"pred_value\",\"real_value\",\"error_value\"]\n",
    "\n",
    "f = open('PEIOPT_sum4_100.csv', 'w')\n",
    "writer = csv.writer(f, lineterminator='\\n')\n",
    "writer.writerow(csv_title_list)\n",
    "\n",
    "for random_num in range(1):\n",
    "\tsampler = np.random.permutation(len(x_all))\n",
    "\tlearn_x = x_all.take(sampler[:10])\n",
    "\tlearn_y = y_all.take(sampler[:10])\n",
    "\tcas_source = (cas_data.ix[:,1]).take(sampler[10:])\n",
    "\tcas_source = list(cas_source.values.flatten())\n",
    "\ttest_x = x_all.take(sampler[10:])\n",
    "\ttest_y = y_all.take(sampler[10:])\n",
    "\tlearn_x.to_csv(\"./x_csvs/x_%i_%i.csv\" %(10, random_num), index=False, header=False)\n",
    "\tlearn_y.to_csv(\"./y_csvs/y_%i_%i.csv\" %(10, random_num), index=False, header=False)\n",
    "\ttest_x.to_csv(\"./xevals/xeval_%i_%i.csv\" %(10, random_num), index=False, header=False)\n",
    "\ttest_y.to_csv(\"./yevals/yeval_%i_%i.csv\" %(10, random_num), index=False, header=False)\n",
    "\t\n",
    "\t\t#最適化手法本体\n",
    "\t\n",
    "\t\t# データロード\n",
    "\tX = np.loadtxt(\"./x_csvs/x_%i_%i.csv\" %(10, random_num),delimiter=\",\")\n",
    "\tX = X.astype(np.float64)#設計変数\n",
    "\tycsv = pd.read_csv(\"./y_csvs/y_%i_%i.csv\" %(10, random_num), header=None)\n",
    "\tprint(ycsv)\n",
    "\ty = ycsv.as_matrix()\n",
    "\ty = y.astype(np.float64)#特性\n",
    "\tboundcsv = np.loadtxt(\"bound.csv\",delimiter=\",\")#設計変数のレンジ\n",
    "\tyinfcsv = np.loadtxt(\"yinf.csv\",delimiter=\",\")#各特性に対する要求\n",
    "\toption = pd.read_csv(\"option.csv\", header=None)#option\n",
    "    for i in range(len(ycsv)):\n",
    "    ycsv.ix[i,0] = ycsv.ix[i,0] + add_rand\n",
    "    add_rand = np.random.rand() * 0.000001"
   ]
  },
  {
   "cell_type": "code",
   "execution_count": 14,
   "metadata": {
    "collapsed": false
   },
   "outputs": [],
   "source": [
    "add_rand = np.random.rand() * 0.000001\n",
    "for i in range(len(ycsv)):\n",
    "    ycsv.ix[i,0] = ycsv.ix[i,0] + add_rand"
   ]
  },
  {
   "cell_type": "code",
   "execution_count": null,
   "metadata": {
    "collapsed": true
   },
   "outputs": [],
   "source": []
  },
  {
   "cell_type": "code",
   "execution_count": null,
   "metadata": {
    "collapsed": true
   },
   "outputs": [],
   "source": []
  },
  {
   "cell_type": "code",
   "execution_count": 13,
   "metadata": {
    "collapsed": false
   },
   "outputs": [
    {
     "data": {
      "text/html": [
       "<div>\n",
       "<table border=\"1\" class=\"dataframe\">\n",
       "  <thead>\n",
       "    <tr style=\"text-align: right;\">\n",
       "      <th></th>\n",
       "      <th>0</th>\n",
       "    </tr>\n",
       "  </thead>\n",
       "  <tbody>\n",
       "    <tr>\n",
       "      <th>0</th>\n",
       "      <td>-4.999957</td>\n",
       "    </tr>\n",
       "    <tr>\n",
       "      <th>1</th>\n",
       "      <td>-6.199957</td>\n",
       "    </tr>\n",
       "    <tr>\n",
       "      <th>2</th>\n",
       "      <td>-7.499957</td>\n",
       "    </tr>\n",
       "    <tr>\n",
       "      <th>3</th>\n",
       "      <td>-3.999957</td>\n",
       "    </tr>\n",
       "    <tr>\n",
       "      <th>4</th>\n",
       "      <td>-4.399957</td>\n",
       "    </tr>\n",
       "    <tr>\n",
       "      <th>5</th>\n",
       "      <td>-4.499957</td>\n",
       "    </tr>\n",
       "    <tr>\n",
       "      <th>6</th>\n",
       "      <td>-5.199957</td>\n",
       "    </tr>\n",
       "    <tr>\n",
       "      <th>7</th>\n",
       "      <td>-7.599957</td>\n",
       "    </tr>\n",
       "    <tr>\n",
       "      <th>8</th>\n",
       "      <td>-6.399957</td>\n",
       "    </tr>\n",
       "    <tr>\n",
       "      <th>9</th>\n",
       "      <td>-6.299957</td>\n",
       "    </tr>\n",
       "  </tbody>\n",
       "</table>\n",
       "</div>"
      ],
      "text/plain": [
       "          0\n",
       "0 -4.999957\n",
       "1 -6.199957\n",
       "2 -7.499957\n",
       "3 -3.999957\n",
       "4 -4.399957\n",
       "5 -4.499957\n",
       "6 -5.199957\n",
       "7 -7.599957\n",
       "8 -6.399957\n",
       "9 -6.299957"
      ]
     },
     "execution_count": 13,
     "metadata": {},
     "output_type": "execute_result"
    }
   ],
   "source": [
    "ycsv"
   ]
  },
  {
   "cell_type": "code",
   "execution_count": null,
   "metadata": {
    "collapsed": true
   },
   "outputs": [],
   "source": []
  },
  {
   "cell_type": "code",
   "execution_count": null,
   "metadata": {
    "collapsed": true
   },
   "outputs": [],
   "source": []
  },
  {
   "cell_type": "code",
   "execution_count": null,
   "metadata": {
    "collapsed": true
   },
   "outputs": [],
   "source": []
  },
  {
   "cell_type": "code",
   "execution_count": null,
   "metadata": {
    "collapsed": true
   },
   "outputs": [],
   "source": []
  },
  {
   "cell_type": "code",
   "execution_count": null,
   "metadata": {
    "collapsed": true
   },
   "outputs": [],
   "source": []
  },
  {
   "cell_type": "code",
   "execution_count": null,
   "metadata": {
    "collapsed": true
   },
   "outputs": [],
   "source": []
  },
  {
   "cell_type": "code",
   "execution_count": null,
   "metadata": {
    "collapsed": true
   },
   "outputs": [],
   "source": []
  },
  {
   "cell_type": "code",
   "execution_count": null,
   "metadata": {
    "collapsed": true
   },
   "outputs": [],
   "source": []
  },
  {
   "cell_type": "code",
   "execution_count": null,
   "metadata": {
    "collapsed": true
   },
   "outputs": [],
   "source": []
  },
  {
   "cell_type": "code",
   "execution_count": null,
   "metadata": {
    "collapsed": true
   },
   "outputs": [],
   "source": []
  }
 ],
 "metadata": {
  "kernelspec": {
   "display_name": "Python 3",
   "language": "python",
   "name": "python3"
  },
  "language_info": {
   "codemirror_mode": {
    "name": "ipython",
    "version": 3
   },
   "file_extension": ".py",
   "mimetype": "text/x-python",
   "name": "python",
   "nbconvert_exporter": "python",
   "pygments_lexer": "ipython3",
   "version": "3.5.1"
  }
 },
 "nbformat": 4,
 "nbformat_minor": 0
}
