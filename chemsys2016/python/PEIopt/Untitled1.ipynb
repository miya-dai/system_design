{
 "cells": [
  {
   "cell_type": "code",
   "execution_count": 2,
   "metadata": {
    "collapsed": false
   },
   "outputs": [],
   "source": [
    "import pandas as pd\n",
    "import numpy as np\n",
    "import sys\n",
    "\n",
    "\n",
    "def make_ID_container():\n",
    "## 構造記述子が計算されている構造IDを抽出\n",
    "\ty_data_search = open (\"logS_mol.sdf\", \"r\")\n",
    "\tcontainer_list = []\n",
    "\tb = 0\n",
    "\tcontainer_list.append([])\n",
    "\tfor line in y_data_search: \n",
    "\t    container_list[b].append(line)\n",
    "\t    if \"$$$$\" in line:\n",
    "\t        b += 1\n",
    "\t        container_list.append([]) \n",
    "\t        continue\n",
    "\tID_container = []\n",
    "\tfor i in range(len(container_list)-1):\n",
    "\t    for line in container_list[i]:\n",
    "\t        if \"<ID>\" in line:\n",
    "\t            num = container_list[i].index(line)\n",
    "\t    ID = int(container_list[i][num+1].strip(\"\\n\"))\n",
    "\t    ID_container.append(ID)\n",
    "\treturn(ID_container)\n",
    "\n",
    "def extract_mod_data(structure_IDs):\n",
    "# オリジナルデータから構造記述子データがあるもののみ抽出\n",
    "\ty_data = open(\"logS_data_set_2D_original.sdf\", \"r\")\n",
    "\tori_container = []\n",
    "\ta = 0\n",
    "\tfor line in y_data:\n",
    "\t\tori_container.append([])\n",
    "\t\tori_container[a].append(line)\n",
    "\t\tif \"$$$$\" in line:\n",
    "\t\t\ta += 1\n",
    "\t\t\tcontinue\n",
    "\n",
    "\tmod_container = []\n",
    "\tfor ID in structure_IDs:\n",
    "\t\tmod_container.append(ori_container[ID])\n",
    "\n",
    "\treturn(mod_container)\n",
    "\n",
    "def extract_logS(learn_x, mod_data):\n",
    "# データからlogSデータを抽出\n",
    "\n",
    "\tlearn_y_list = []\n",
    "\tfor ID in learn_x.index:\n",
    "\t    search_num = mod_data[ID].index(\">  <logS>\\n\")\n",
    "\t    log_S = mod_data[ID][search_num + 1].strip(\"\\n\")\n",
    "\t    learn_y_list.append(float(log_S))\n",
    "\n",
    "\treturn(learn_y_list)\n",
    "\n",
    "def del_dup_data(learn_x,learn_y):\n",
    "## yが重複したデータを削除\n",
    "\tx_list_uniq = []\n",
    "\ty_list_uniq = []\n",
    "\tfor i in zip(learn_x,learn_y):\n",
    "\t    if i[1] not in y_list_uniq:\n",
    "\t        x_list_uniq.append(i[0])\n",
    "\t        y_list_uniq.append(i[1])\n",
    "\ty_log_df = pd.DataFrame(y_list_uniq)\n",
    "\treturn(y_log_df)\n",
    "\n",
    "\n",
    "\n",
    "# 学習用データとして取り出したい個数を指定\n",
    "arg = sys.argv\n",
    "\n",
    "#num_of_sample = int(arg[1])\n",
    "\n",
    "logs_mcd = pd.read_csv(\"logS_mcd.csv\") \n",
    "sampler = np.random.permutation(len(logs_mcd))\n",
    "#learn_x = logs_mcd.take(sampler[:num_of_sample])\n",
    "#test_x = logs_mcd.take(sampler[num_of_sample:])\n",
    "\n",
    "y_data = pd.read_csv(\"logS_data_set.csv\",header = None)\n",
    "y_data_search = open (\"logS_mol.sdf\", \"r\")\n",
    "\n",
    "y_data = list(y_data.values.flatten())\n",
    "\n",
    "structure_IDs = make_ID_container()\n",
    "mod_data = extract_mod_data(structure_IDs)\n",
    "\n",
    "#learn_y = extract_logS(learn_x, mod_data)\n",
    "\n",
    "#y_log_df = del_dup_data(learn_x,learn_y)"
   ]
  },
  {
   "cell_type": "code",
   "execution_count": 5,
   "metadata": {
    "collapsed": false
   },
   "outputs": [
    {
     "data": {
      "text/plain": [
       "['CC(N)=O\\n',\n",
       " ' OpenBabel11021516482D\\n',\n",
       " '\\n',\n",
       " '  9  8  0  0  0  0  0  0  0  0999 V2000\\n',\n",
       " '   -1.7321    1.0000    0.0000 C   0  0  0  0  0  0  0  0  0  0  0  0\\n',\n",
       " '   -1.7321    0.0000    0.0000 H   0  0  0  0  0  0  0  0  0  0  0  0\\n',\n",
       " '   -2.2321    1.8660    0.0000 H   0  0  0  0  0  0  0  0  0  0  0  0\\n',\n",
       " '   -2.7321    1.0000    0.0000 H   0  0  0  0  0  0  0  0  0  0  0  0\\n',\n",
       " '   -0.8660    1.5000    0.0000 C   0  0  0  0  0  0  0  0  0  0  0  0\\n',\n",
       " '   -0.0000    1.0000    0.0000 N   0  0  0  0  0  0  0  0  0  0  0  0\\n',\n",
       " '    0.0000    0.0000    0.0000 H   0  0  0  0  0  0  0  0  0  0  0  0\\n',\n",
       " '    0.8660    1.5000    0.0000 H   0  0  0  0  0  0  0  0  0  0  0  0\\n',\n",
       " '   -0.8660    2.5000    0.0000 O   0  0  0  0  0  0  0  0  0  0  0  0\\n',\n",
       " '  1  2  1  0  0  0  0\\n',\n",
       " '  1  3  1  0  0  0  0\\n',\n",
       " '  1  4  1  0  0  0  0\\n',\n",
       " '  1  5  1  0  0  0  0\\n',\n",
       " '  5  6  1  0  0  0  0\\n',\n",
       " '  5  9  2  0  0  0  0\\n',\n",
       " '  6  8  1  0  0  0  0\\n',\n",
       " '  6  7  1  0  0  0  0\\n',\n",
       " 'M  END\\n',\n",
       " '>  <CAS_Number>\\n',\n",
       " '60-35-5\\n',\n",
       " '\\n',\n",
       " '>  <logS>\\n',\n",
       " '1.58\\n',\n",
       " '\\n',\n",
       " '$$$$\\n']"
      ]
     },
     "execution_count": 5,
     "metadata": {},
     "output_type": "execute_result"
    }
   ],
   "source": [
    "mod_data[0]"
   ]
  },
  {
   "cell_type": "code",
   "execution_count": null,
   "metadata": {
    "collapsed": true
   },
   "outputs": [],
   "source": []
  },
  {
   "cell_type": "code",
   "execution_count": null,
   "metadata": {
    "collapsed": true
   },
   "outputs": [],
   "source": []
  },
  {
   "cell_type": "code",
   "execution_count": null,
   "metadata": {
    "collapsed": true
   },
   "outputs": [],
   "source": []
  },
  {
   "cell_type": "code",
   "execution_count": null,
   "metadata": {
    "collapsed": true
   },
   "outputs": [],
   "source": []
  }
 ],
 "metadata": {
  "kernelspec": {
   "display_name": "Python 3",
   "language": "python",
   "name": "python3"
  },
  "language_info": {
   "codemirror_mode": {
    "name": "ipython",
    "version": 3
   },
   "file_extension": ".py",
   "mimetype": "text/x-python",
   "name": "python",
   "nbconvert_exporter": "python",
   "pygments_lexer": "ipython3",
   "version": "3.5.0"
  }
 },
 "nbformat": 4,
 "nbformat_minor": 0
}
